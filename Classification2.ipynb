{
 "cells": [
  {
   "cell_type": "code",
   "execution_count": 58,
   "metadata": {},
   "outputs": [],
   "source": [
    "import torch\n",
    "import torchvision\n",
    "import numpy as np\n",
    "import pandas as pd\n",
    "import matplotlib.pyplot as plt\n",
    "import torch.nn as nn\n",
    "from torchvision.transforms import transforms\n",
    "import torch.nn.functional as F"
   ]
  },
  {
   "cell_type": "code",
   "execution_count": 2,
   "metadata": {},
   "outputs": [],
   "source": [
    "# MNIST Handwritten Digit Recognition"
   ]
  },
  {
   "cell_type": "code",
   "execution_count": 3,
   "metadata": {},
   "outputs": [],
   "source": [
    "# HyperParameters 1\n",
    "\n",
    "# Добавляем наши размеры слоев\n",
    "input_size=784     #28X28 pixel of image\n",
    "hidden_size1=128   #size of 1st hidden layer(number of perceptron)\n",
    "hidden_size2=64    #size of second hidden layer\n",
    "#hidden_size3=100  #size of third hidden layer\n",
    "#hidden_size=80    #size of fourth hidden layer\n",
    "output_size=10     #output layer\n",
    "batch_size=50      #batch size "
   ]
  },
  {
   "cell_type": "code",
   "execution_count": 4,
   "metadata": {
    "scrolled": true
   },
   "outputs": [],
   "source": [
    "# Скачиваем датасет\n",
    "train_dataset=torchvision.datasets.MNIST('TRAIN',train=True,transform=transforms.ToTensor(),download=True)\n",
    "test_dataset=torchvision.datasets.MNIST('TEST',train=False,transform=transforms.ToTensor(),download=True)"
   ]
  },
  {
   "cell_type": "code",
   "execution_count": 5,
   "metadata": {},
   "outputs": [],
   "source": [
    "# Создаем загрузчик данных для батчевой загрузки в оперативку\n",
    "train_dataloader=torch.utils.data.DataLoader(dataset=train_dataset, batch_size=batch_size,shuffle=True)\n",
    "test_dataloader=torch.utils.data.DataLoader(dataset=test_dataset, batch_size=batch_size,shuffle=True)"
   ]
  },
  {
   "cell_type": "code",
   "execution_count": 6,
   "metadata": {},
   "outputs": [
    {
     "name": "stdout",
     "output_type": "stream",
     "text": [
      "number of samplestorch.Size([50, 1, 28, 28])\n",
      "number of labels torch.Size([50])\n"
     ]
    }
   ],
   "source": [
    "# Посмотрим на наш датасет \n",
    "\n",
    "data=iter(train_dataloader)\n",
    "X,y=next(data)\n",
    "print(f\"number of samples{X.shape}\")\n",
    "print(f\"number of labels {y.shape}\")"
   ]
  },
  {
   "cell_type": "code",
   "execution_count": 7,
   "metadata": {
    "scrolled": true
   },
   "outputs": [
    {
     "data": {
      "text/plain": [
       "tensor([[[[0., 0., 0.,  ..., 0., 0., 0.],\n",
       "          [0., 0., 0.,  ..., 0., 0., 0.],\n",
       "          [0., 0., 0.,  ..., 0., 0., 0.],\n",
       "          ...,\n",
       "          [0., 0., 0.,  ..., 0., 0., 0.],\n",
       "          [0., 0., 0.,  ..., 0., 0., 0.],\n",
       "          [0., 0., 0.,  ..., 0., 0., 0.]]],\n",
       "\n",
       "\n",
       "        [[[0., 0., 0.,  ..., 0., 0., 0.],\n",
       "          [0., 0., 0.,  ..., 0., 0., 0.],\n",
       "          [0., 0., 0.,  ..., 0., 0., 0.],\n",
       "          ...,\n",
       "          [0., 0., 0.,  ..., 0., 0., 0.],\n",
       "          [0., 0., 0.,  ..., 0., 0., 0.],\n",
       "          [0., 0., 0.,  ..., 0., 0., 0.]]],\n",
       "\n",
       "\n",
       "        [[[0., 0., 0.,  ..., 0., 0., 0.],\n",
       "          [0., 0., 0.,  ..., 0., 0., 0.],\n",
       "          [0., 0., 0.,  ..., 0., 0., 0.],\n",
       "          ...,\n",
       "          [0., 0., 0.,  ..., 0., 0., 0.],\n",
       "          [0., 0., 0.,  ..., 0., 0., 0.],\n",
       "          [0., 0., 0.,  ..., 0., 0., 0.]]],\n",
       "\n",
       "\n",
       "        ...,\n",
       "\n",
       "\n",
       "        [[[0., 0., 0.,  ..., 0., 0., 0.],\n",
       "          [0., 0., 0.,  ..., 0., 0., 0.],\n",
       "          [0., 0., 0.,  ..., 0., 0., 0.],\n",
       "          ...,\n",
       "          [0., 0., 0.,  ..., 0., 0., 0.],\n",
       "          [0., 0., 0.,  ..., 0., 0., 0.],\n",
       "          [0., 0., 0.,  ..., 0., 0., 0.]]],\n",
       "\n",
       "\n",
       "        [[[0., 0., 0.,  ..., 0., 0., 0.],\n",
       "          [0., 0., 0.,  ..., 0., 0., 0.],\n",
       "          [0., 0., 0.,  ..., 0., 0., 0.],\n",
       "          ...,\n",
       "          [0., 0., 0.,  ..., 0., 0., 0.],\n",
       "          [0., 0., 0.,  ..., 0., 0., 0.],\n",
       "          [0., 0., 0.,  ..., 0., 0., 0.]]],\n",
       "\n",
       "\n",
       "        [[[0., 0., 0.,  ..., 0., 0., 0.],\n",
       "          [0., 0., 0.,  ..., 0., 0., 0.],\n",
       "          [0., 0., 0.,  ..., 0., 0., 0.],\n",
       "          ...,\n",
       "          [0., 0., 0.,  ..., 0., 0., 0.],\n",
       "          [0., 0., 0.,  ..., 0., 0., 0.],\n",
       "          [0., 0., 0.,  ..., 0., 0., 0.]]]])"
      ]
     },
     "execution_count": 7,
     "metadata": {},
     "output_type": "execute_result"
    }
   ],
   "source": [
    "X"
   ]
  },
  {
   "cell_type": "code",
   "execution_count": 8,
   "metadata": {},
   "outputs": [
    {
     "data": {
      "text/plain": [
       "<matplotlib.image.AxesImage at 0x2a7a9670880>"
      ]
     },
     "execution_count": 8,
     "metadata": {},
     "output_type": "execute_result"
    },
    {
     "data": {
      "image/png": "[encoded data removed]",
      "text/plain": [
       "<Figure size 432x288 with 1 Axes>"
      ]
     },
     "metadata": {
      "needs_background": "light"
     },
     "output_type": "display_data"
    }
   ],
   "source": [
    "plt.imshow(X[49][0], cmap='gray_r')"
   ]
  },
  {
   "cell_type": "code",
   "execution_count": 9,
   "metadata": {},
   "outputs": [
    {
     "data": {
      "image/png": "[encoded data removed]",
      "text/plain": [
       "<Figure size 432x288 with 50 Axes>"
      ]
     },
     "metadata": {
      "needs_background": "light"
     },
     "output_type": "display_data"
    }
   ],
   "source": [
    "figure = plt.figure()\n",
    "num_of_images = len(X)\n",
    "for index in range(1, num_of_images+1):\n",
    "    plt.subplot(5, 10, index)\n",
    "    plt.axis('off')\n",
    "    plt.imshow(X[index-1].numpy().squeeze(), cmap='gray_r')"
   ]
  },
  {
   "cell_type": "code",
   "execution_count": 10,
   "metadata": {},
   "outputs": [
    {
     "name": "stdout",
     "output_type": "stream",
     "text": [
      "Sequential(\n",
      "  (0): Linear(in_features=784, out_features=128, bias=True)\n",
      "  (1): ReLU()\n",
      "  (2): Linear(in_features=128, out_features=64, bias=True)\n",
      "  (3): ReLU()\n",
      "  (4): Linear(in_features=64, out_features=10, bias=True)\n",
      "  (5): LogSoftmax(dim=1)\n",
      ")\n"
     ]
    }
   ],
   "source": [
    "# HyperParameters 2\n",
    "\n",
    "# Создаем модель\n",
    "model = nn.Sequential(nn.Linear(input_size, hidden_size1),\n",
    "                      nn.ReLU(),\n",
    "                      nn.Linear(hidden_size1, hidden_size2),\n",
    "                      nn.ReLU(),\n",
    "                      nn.Linear(hidden_size2, output_size),\n",
    "                      nn.LogSoftmax(dim=1))\n",
    "print(model)"
   ]
  },
  {
   "cell_type": "code",
   "execution_count": 11,
   "metadata": {
    "scrolled": true
   },
   "outputs": [],
   "source": [
    "# HyperParameters 3\n",
    "\n",
    "# Создаем Loss и Optimizer\n",
    "lr_rate=0.01\n",
    "loss=nn.CrossEntropyLoss()  # Loss func\n",
    "optimizer=torch.optim.Adam(model.parameters(),lr=lr_rate)  # optimizer func"
   ]
  },
  {
   "cell_type": "code",
   "execution_count": 12,
   "metadata": {
    "scrolled": true
   },
   "outputs": [
    {
     "name": "stdout",
     "output_type": "stream",
     "text": [
      "epoch=1of10, step=0.0, loss=2.304398536682129\n",
      "epoch=1of10, step=0.0833, loss=0.3084467947483063\n",
      "epoch=1of10, step=0.1667, loss=0.4816024899482727\n",
      "epoch=1of10, step=0.25, loss=0.1963622123003006\n",
      "epoch=1of10, step=0.3333, loss=0.30343666672706604\n",
      "epoch=1of10, step=0.4167, loss=0.1612030416727066\n",
      "epoch=1of10, step=0.5, loss=0.36670440435409546\n",
      "epoch=1of10, step=0.5833, loss=0.21870067715644836\n",
      "epoch=1of10, step=0.6667, loss=0.11768292635679245\n",
      "epoch=1of10, step=0.75, loss=0.15112316608428955\n",
      "epoch=1of10, step=0.8333, loss=0.052154943346977234\n",
      "epoch=1of10, step=0.9167, loss=0.10996025800704956\n",
      "epoch=2of10, step=0.0, loss=0.23015521466732025\n",
      "epoch=2of10, step=0.0833, loss=0.1330243945121765\n",
      "epoch=2of10, step=0.1667, loss=0.24237516522407532\n",
      "epoch=2of10, step=0.25, loss=0.041002631187438965\n",
      "epoch=2of10, step=0.3333, loss=0.31114766001701355\n",
      "epoch=2of10, step=0.4167, loss=0.19886671006679535\n",
      "epoch=2of10, step=0.5, loss=0.08650419116020203\n",
      "epoch=2of10, step=0.5833, loss=0.07488707453012466\n",
      "epoch=2of10, step=0.6667, loss=0.043152980506420135\n",
      "epoch=2of10, step=0.75, loss=0.29701587557792664\n",
      "epoch=2of10, step=0.8333, loss=0.09266576170921326\n",
      "epoch=2of10, step=0.9167, loss=0.20067305862903595\n",
      "epoch=3of10, step=0.0, loss=0.1060105711221695\n",
      "epoch=3of10, step=0.0833, loss=0.09357582777738571\n",
      "epoch=3of10, step=0.1667, loss=0.05687718465924263\n",
      "epoch=3of10, step=0.25, loss=0.27867451310157776\n",
      "epoch=3of10, step=0.3333, loss=0.17000152170658112\n",
      "epoch=3of10, step=0.4167, loss=0.13886791467666626\n",
      "epoch=3of10, step=0.5, loss=0.16784870624542236\n",
      "epoch=3of10, step=0.5833, loss=0.16814811527729034\n",
      "epoch=3of10, step=0.6667, loss=0.08909483253955841\n",
      "epoch=3of10, step=0.75, loss=0.28027522563934326\n",
      "epoch=3of10, step=0.8333, loss=0.08574721217155457\n",
      "epoch=3of10, step=0.9167, loss=0.08759474009275436\n",
      "epoch=4of10, step=0.0, loss=0.06894059479236603\n",
      "epoch=4of10, step=0.0833, loss=0.07927252352237701\n",
      "epoch=4of10, step=0.1667, loss=0.14933915436267853\n",
      "epoch=4of10, step=0.25, loss=0.10120230913162231\n",
      "epoch=4of10, step=0.3333, loss=0.1452121138572693\n",
      "epoch=4of10, step=0.4167, loss=0.20961590111255646\n",
      "epoch=4of10, step=0.5, loss=0.04395017772912979\n",
      "epoch=4of10, step=0.5833, loss=0.16348405182361603\n",
      "epoch=4of10, step=0.6667, loss=0.05774576961994171\n",
      "epoch=4of10, step=0.75, loss=0.07429308444261551\n",
      "epoch=4of10, step=0.8333, loss=0.27729251980781555\n",
      "epoch=4of10, step=0.9167, loss=0.1785798817873001\n",
      "epoch=5of10, step=0.0, loss=0.17213387787342072\n",
      "epoch=5of10, step=0.0833, loss=0.10248028486967087\n",
      "epoch=5of10, step=0.1667, loss=0.11472279578447342\n",
      "epoch=5of10, step=0.25, loss=0.016524342820048332\n",
      "epoch=5of10, step=0.3333, loss=0.014913344755768776\n",
      "epoch=5of10, step=0.4167, loss=0.09481081366539001\n",
      "epoch=5of10, step=0.5, loss=0.1722254604101181\n",
      "epoch=5of10, step=0.5833, loss=0.22119106352329254\n",
      "epoch=5of10, step=0.6667, loss=0.37415844202041626\n",
      "epoch=5of10, step=0.75, loss=0.02808345854282379\n",
      "epoch=5of10, step=0.8333, loss=0.017233259975910187\n",
      "epoch=5of10, step=0.9167, loss=0.08479684591293335\n",
      "epoch=6of10, step=0.0, loss=0.018761487677693367\n",
      "epoch=6of10, step=0.0833, loss=0.003223368199542165\n",
      "epoch=6of10, step=0.1667, loss=0.016131285578012466\n",
      "epoch=6of10, step=0.25, loss=0.14536218345165253\n",
      "epoch=6of10, step=0.3333, loss=0.1354432851076126\n",
      "epoch=6of10, step=0.4167, loss=0.14903292059898376\n",
      "epoch=6of10, step=0.5, loss=0.006124047562479973\n",
      "epoch=6of10, step=0.5833, loss=0.06146400794386864\n",
      "epoch=6of10, step=0.6667, loss=0.0927046611905098\n",
      "epoch=6of10, step=0.75, loss=0.025450613349676132\n",
      "epoch=6of10, step=0.8333, loss=0.11467505246400833\n",
      "epoch=6of10, step=0.9167, loss=0.07994958758354187\n",
      "epoch=7of10, step=0.0, loss=0.042994800955057144\n",
      "epoch=7of10, step=0.0833, loss=0.3461381793022156\n",
      "epoch=7of10, step=0.1667, loss=0.06524863094091415\n",
      "epoch=7of10, step=0.25, loss=0.03150678798556328\n",
      "epoch=7of10, step=0.3333, loss=0.11784692853689194\n",
      "epoch=7of10, step=0.4167, loss=0.050302211195230484\n",
      "epoch=7of10, step=0.5, loss=0.000893321237526834\n",
      "epoch=7of10, step=0.5833, loss=0.10842542350292206\n",
      "epoch=7of10, step=0.6667, loss=0.06452713161706924\n",
      "epoch=7of10, step=0.75, loss=0.1157030388712883\n",
      "epoch=7of10, step=0.8333, loss=0.15754085779190063\n",
      "epoch=7of10, step=0.9167, loss=0.10232476145029068\n",
      "epoch=8of10, step=0.0, loss=0.039594706147909164\n",
      "epoch=8of10, step=0.0833, loss=0.33794716000556946\n",
      "epoch=8of10, step=0.1667, loss=0.041320089250802994\n",
      "epoch=8of10, step=0.25, loss=0.01454001571983099\n",
      "epoch=8of10, step=0.3333, loss=0.14676488935947418\n",
      "epoch=8of10, step=0.4167, loss=0.21070556342601776\n",
      "epoch=8of10, step=0.5, loss=0.009952789172530174\n",
      "epoch=8of10, step=0.5833, loss=0.0847448855638504\n",
      "epoch=8of10, step=0.6667, loss=0.30194222927093506\n",
      "epoch=8of10, step=0.75, loss=0.017660191282629967\n",
      "epoch=8of10, step=0.8333, loss=0.000804620620328933\n",
      "epoch=8of10, step=0.9167, loss=0.4539545178413391\n",
      "epoch=9of10, step=0.0, loss=0.10861653089523315\n",
      "epoch=9of10, step=0.0833, loss=0.0026493731420487165\n",
      "epoch=9of10, step=0.1667, loss=0.021130980923771858\n",
      "epoch=9of10, step=0.25, loss=0.0015206611715257168\n",
      "epoch=9of10, step=0.3333, loss=0.019717032089829445\n",
      "epoch=9of10, step=0.4167, loss=0.21868951618671417\n",
      "epoch=9of10, step=0.5, loss=0.059546709060668945\n",
      "epoch=9of10, step=0.5833, loss=0.009255470708012581\n",
      "epoch=9of10, step=0.6667, loss=0.003192645264789462\n",
      "epoch=9of10, step=0.75, loss=0.011175469495356083\n",
      "epoch=9of10, step=0.8333, loss=0.09963090717792511\n",
      "epoch=9of10, step=0.9167, loss=0.03522716835141182\n",
      "epoch=10of10, step=0.0, loss=0.008810077793896198\n",
      "epoch=10of10, step=0.0833, loss=0.17808687686920166\n",
      "epoch=10of10, step=0.1667, loss=0.21130798757076263\n",
      "epoch=10of10, step=0.25, loss=0.05306429788470268\n",
      "epoch=10of10, step=0.3333, loss=0.005314214620739222\n",
      "epoch=10of10, step=0.4167, loss=0.0512077622115612\n",
      "epoch=10of10, step=0.5, loss=0.004597371444106102\n",
      "epoch=10of10, step=0.5833, loss=0.018587863072752953\n",
      "epoch=10of10, step=0.6667, loss=0.0023403288796544075\n",
      "epoch=10of10, step=0.75, loss=0.11857407540082932\n",
      "epoch=10of10, step=0.8333, loss=0.0252247117459774\n",
      "epoch=10of10, step=0.9167, loss=0.025764768943190575\n"
     ]
    }
   ],
   "source": [
    "# Создаем функцию для тренировки модели\n",
    "\n",
    "\n",
    "count_epochs = 10  # кол-во эпох\n",
    "for epoch in range(count_epochs):\n",
    "    for i, (images,labels) in enumerate(train_dataloader):\n",
    "        images = images.reshape(-1, 28*28)\n",
    "        \n",
    "        # Считаем loss\n",
    "        output = model(images)\n",
    "        Loss_i = loss(output, labels)\n",
    "        \n",
    "        # Считаем градиент\n",
    "        optimizer.zero_grad() # обновить градиент\n",
    "        Loss_i.backward()  # backpropogation algo\n",
    "        optimizer.step()  # update params\n",
    "        \n",
    "        # Делаем prints\n",
    "        if i % 100 == 0:\n",
    "            print(\"epoch={}of{}, step={}, loss={}\".format(\n",
    "                  epoch+1, count_epochs, round(i/len(train_dataloader),4), Loss_i.item()))"
   ]
  },
  {
   "cell_type": "code",
   "execution_count": 93,
   "metadata": {
    "scrolled": true
   },
   "outputs": [
    {
     "data": {
      "text/plain": [
       "96.67"
      ]
     },
     "execution_count": 93,
     "metadata": {},
     "output_type": "execute_result"
    }
   ],
   "source": [
    "# Accuracy score\n",
    "\n",
    "with torch.no_grad():\n",
    "    n_correct=0\n",
    "    n_samples=0\n",
    "    for images,labels in test_dataloader:\n",
    "        images=images.reshape(-1,784)\n",
    "        output=model(images)\n",
    "        labels=labels\n",
    "        _,prediction=torch.max(output,1)\n",
    "        n_samples+=labels.shape[0]\n",
    "        n_correct+=(prediction==labels).sum().item()\n",
    "accuracy=(n_correct/n_samples)*100\n",
    "\n",
    "accuracy"
   ]
  },
  {
   "cell_type": "code",
   "execution_count": 163,
   "metadata": {},
   "outputs": [],
   "source": [
    "# Other metrics"
   ]
  },
  {
   "cell_type": "code",
   "execution_count": 164,
   "metadata": {},
   "outputs": [],
   "source": [
    "target = torch.Tensor()"
   ]
  },
  {
   "cell_type": "code",
   "execution_count": 165,
   "metadata": {},
   "outputs": [],
   "source": [
    "preds = torch.Tensor()"
   ]
  },
  {
   "cell_type": "code",
   "execution_count": 166,
   "metadata": {},
   "outputs": [],
   "source": [
    "with torch.no_grad():\n",
    "    for images,labels in test_dataloader:\n",
    "        images=images.reshape(-1,784)\n",
    "        output=model(images)\n",
    "        target=torch.cat((target,labels))\n",
    "        _,prediction=torch.max(output,1)\n",
    "        preds=torch.cat((preds,prediction))"
   ]
  },
  {
   "cell_type": "code",
   "execution_count": 167,
   "metadata": {},
   "outputs": [
    {
     "data": {
      "text/plain": [
       "tensor([9, 5, 8, 4, 9, 9, 8, 6, 5, 0, 7, 6, 5, 9, 1, 9, 6, 0, 1, 0, 9, 5, 1, 3,\n",
       "        5, 7, 0, 1, 0, 4, 2, 2, 2, 4, 7, 0, 1, 6, 2, 7, 8, 2, 9, 8, 1, 6, 6, 7,\n",
       "        4, 3])"
      ]
     },
     "execution_count": 167,
     "metadata": {},
     "output_type": "execute_result"
    }
   ],
   "source": [
    "labels"
   ]
  },
  {
   "cell_type": "code",
   "execution_count": 168,
   "metadata": {},
   "outputs": [
    {
     "data": {
      "text/plain": [
       "tensor([9, 5, 8, 4, 9, 9, 8, 6, 5, 0, 7, 6, 5, 9, 1, 8, 6, 0, 1, 0, 3, 5, 1, 3,\n",
       "        5, 7, 3, 1, 0, 4, 2, 2, 2, 4, 7, 0, 1, 6, 2, 7, 8, 2, 9, 8, 1, 6, 6, 7,\n",
       "        4, 3])"
      ]
     },
     "execution_count": 168,
     "metadata": {},
     "output_type": "execute_result"
    }
   ],
   "source": [
    "prediction"
   ]
  },
  {
   "cell_type": "code",
   "execution_count": 169,
   "metadata": {},
   "outputs": [
    {
     "data": {
      "text/plain": [
       "10000"
      ]
     },
     "execution_count": 169,
     "metadata": {},
     "output_type": "execute_result"
    }
   ],
   "source": [
    "len(target)"
   ]
  },
  {
   "cell_type": "code",
   "execution_count": 170,
   "metadata": {},
   "outputs": [
    {
     "data": {
      "text/plain": [
       "10000"
      ]
     },
     "execution_count": 170,
     "metadata": {},
     "output_type": "execute_result"
    }
   ],
   "source": [
    "len(preds)"
   ]
  },
  {
   "cell_type": "code",
   "execution_count": 174,
   "metadata": {},
   "outputs": [],
   "source": [
    "target = target.to(torch.int)"
   ]
  },
  {
   "cell_type": "code",
   "execution_count": 176,
   "metadata": {},
   "outputs": [],
   "source": [
    "preds = preds.to(torch.int)"
   ]
  },
  {
   "cell_type": "code",
   "execution_count": 177,
   "metadata": {
    "scrolled": true
   },
   "outputs": [
    {
     "data": {
      "text/plain": [
       "tensor(0.9667)"
      ]
     },
     "execution_count": 177,
     "metadata": {},
     "output_type": "execute_result"
    }
   ],
   "source": [
    "# Accuracy\n",
    "from torchmetrics import Accuracy\n",
    "accuracy = Accuracy()\n",
    "accuracy(preds, target)"
   ]
  },
  {
   "cell_type": "code",
   "execution_count": 180,
   "metadata": {},
   "outputs": [
    {
     "name": "stdout",
     "output_type": "stream",
     "text": [
      "tensor(0.9670)\n",
      "tensor(0.9667)\n"
     ]
    }
   ],
   "source": [
    "# Precision\n",
    "from torchmetrics import Precision\n",
    "precision1 = Precision(average='macro', num_classes=10)\n",
    "precision2 = Precision(average='micro', num_classes=10)\n",
    "print(precision1(preds, target))\n",
    "print(precision2(preds, target))"
   ]
  },
  {
   "cell_type": "code",
   "execution_count": 181,
   "metadata": {},
   "outputs": [
    {
     "name": "stdout",
     "output_type": "stream",
     "text": [
      "tensor(0.9663)\n",
      "tensor(0.9667)\n"
     ]
    }
   ],
   "source": [
    "# Recall\n",
    "from torchmetrics import Recall\n",
    "recall1 = Recall(average='macro', num_classes=10)\n",
    "recall2 = Recall(average='micro', num_classes=10)\n",
    "print(recall1(preds, target))\n",
    "print(recall2(preds, target))"
   ]
  },
  {
   "cell_type": "code",
   "execution_count": 182,
   "metadata": {},
   "outputs": [
    {
     "name": "stdout",
     "output_type": "stream",
     "text": [
      "tensor(0.9667)\n"
     ]
    }
   ],
   "source": [
    "# F1 score\n",
    "from torchmetrics import F1Score\n",
    "f1 = F1Score(num_classes=10)\n",
    "print(f1(preds, target))"
   ]
  },
  {
   "cell_type": "code",
   "execution_count": null,
   "metadata": {},
   "outputs": [],
   "source": []
  },
  {
   "cell_type": "code",
   "execution_count": null,
   "metadata": {},
   "outputs": [],
   "source": []
  },
  {
   "cell_type": "code",
   "execution_count": 183,
   "metadata": {},
   "outputs": [],
   "source": [
    "# Try to nn.NLLLoss"
   ]
  },
  {
   "cell_type": "code",
   "execution_count": null,
   "metadata": {},
   "outputs": [],
   "source": []
  },
  {
   "cell_type": "code",
   "execution_count": 192,
   "metadata": {},
   "outputs": [
    {
     "name": "stdout",
     "output_type": "stream",
     "text": [
      "Sequential(\n",
      "  (0): Linear(in_features=784, out_features=128, bias=True)\n",
      "  (1): ReLU()\n",
      "  (2): Linear(in_features=128, out_features=64, bias=True)\n",
      "  (3): ReLU()\n",
      "  (4): Linear(in_features=64, out_features=10, bias=True)\n",
      "  (5): LogSoftmax(dim=1)\n",
      ")\n"
     ]
    }
   ],
   "source": [
    "# HyperParameters 2\n",
    "\n",
    "# Создаем модель\n",
    "model2 = nn.Sequential(nn.Linear(input_size, hidden_size1),\n",
    "                      nn.ReLU(),\n",
    "                      nn.Linear(hidden_size1, hidden_size2),\n",
    "                      nn.ReLU(),\n",
    "                      nn.Linear(hidden_size2, output_size),\n",
    "                      nn.LogSoftmax(dim=1))\n",
    "print(model2)"
   ]
  },
  {
   "cell_type": "code",
   "execution_count": 193,
   "metadata": {
    "scrolled": true
   },
   "outputs": [],
   "source": [
    "# HyperParameters 3\n",
    "\n",
    "# Создаем Loss и Optimizer\n",
    "lr_rate=0.01\n",
    "loss=nn.NLLLoss()  # Loss func\n",
    "optimizer=torch.optim.Adam(model2.parameters(),lr=lr_rate)  # optimizer func"
   ]
  },
  {
   "cell_type": "code",
   "execution_count": 194,
   "metadata": {
    "scrolled": true
   },
   "outputs": [
    {
     "name": "stdout",
     "output_type": "stream",
     "text": [
      "epoch=1of10, loss=0.08738387376070023\n",
      "epoch=2of10, loss=0.08738395571708679\n",
      "epoch=3of10, loss=0.0873839408159256\n",
      "epoch=4of10, loss=0.0873839408159256\n",
      "epoch=5of10, loss=0.08738389611244202\n",
      "epoch=6of10, loss=0.08738400042057037\n",
      "epoch=7of10, loss=0.0873839408159256\n",
      "epoch=8of10, loss=0.08738388866186142\n",
      "epoch=9of10, loss=0.08738385885953903\n",
      "epoch=10of10, loss=0.0873839482665062\n"
     ]
    }
   ],
   "source": [
    "# Создаем функцию для тренировки модели\n",
    "\n",
    "\n",
    "count_epochs = 10  # кол-во эпох\n",
    "for epoch in range(count_epochs):\n",
    "    total_loss_per_batch = 0.0\n",
    "    for i, (images,labels) in enumerate(train_dataloader):\n",
    "        images = images.reshape(-1, 28*28)\n",
    "        \n",
    "        # Считаем loss\n",
    "        output = model(images)\n",
    "        Loss_i = loss(output, labels)\n",
    "        \n",
    "        # Считаем градиент\n",
    "        optimizer.zero_grad() # обновить градиент\n",
    "        Loss_i.backward()  # backpropogation algo\n",
    "        optimizer.step()  # update params\n",
    "        \n",
    "        total_loss_per_batch += Loss_i\n",
    "        # Делаем prints\n",
    "    \n",
    "    print(\"epoch={}of{}, loss={}\".format(\n",
    "           epoch+1, count_epochs, total_loss_per_batch/len(train_dataloader)))"
   ]
  },
  {
   "cell_type": "code",
   "execution_count": 195,
   "metadata": {},
   "outputs": [
    {
     "data": {
      "text/plain": [
       "9.13"
      ]
     },
     "execution_count": 195,
     "metadata": {},
     "output_type": "execute_result"
    }
   ],
   "source": [
    "# Accuracy score\n",
    "\n",
    "with torch.no_grad():\n",
    "    n_correct=0\n",
    "    n_samples=0\n",
    "    for images,labels in test_dataloader:\n",
    "        images=images.reshape(-1,784)\n",
    "        output=model2(images)\n",
    "        labels=labels\n",
    "        _,prediction=torch.max(output,1)\n",
    "        n_samples+=labels.shape[0]\n",
    "        n_correct+=(prediction==labels).sum().item()\n",
    "accuracy=(n_correct/n_samples)*100\n",
    "\n",
    "accuracy"
   ]
  },
  {
   "cell_type": "code",
   "execution_count": null,
   "metadata": {},
   "outputs": [],
   "source": []
  }
 ],
 "metadata": {
  "kernelspec": {
   "display_name": "Python 3",
   "language": "python",
   "name": "python3"
  },
  "language_info": {
   "codemirror_mode": {
    "name": "ipython",
    "version": 3
   },
   "file_extension": ".py",
   "mimetype": "text/x-python",
   "name": "python",
   "nbconvert_exporter": "python",
   "pygments_lexer": "ipython3",
   "version": "3.8.3"
  }
 },
 "nbformat": 4,
 "nbformat_minor": 4
}
