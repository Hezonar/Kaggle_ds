{
 "cells": [
  {
   "cell_type": "code",
   "execution_count": 1,
   "metadata": {},
   "outputs": [],
   "source": [
    "import torch\n",
    "import torchvision\n",
    "import numpy as np\n",
    "import pandas as pd\n",
    "import matplotlib.pyplot as plt\n",
    "import torch.nn as nn\n",
    "from torchvision.transforms import transforms\n",
    "import torch.nn.functional as F"
   ]
  },
  {
   "cell_type": "code",
   "execution_count": 2,
   "metadata": {},
   "outputs": [],
   "source": [
    "# MNIST Handwritten Digit Recognition"
   ]
  },
  {
   "cell_type": "code",
   "execution_count": 3,
   "metadata": {},
   "outputs": [],
   "source": [
    "# HyperParameters 1\n",
    "\n",
    "# Добавляем наши размеры слоев\n",
    "input_size=784     #28X28 pixel of image\n",
    "hidden_size1=128   #size of 1st hidden layer(number of perceptron)\n",
    "hidden_size2=64    #size of second hidden layer\n",
    "#hidden_size3=100  #size of third hidden layer\n",
    "#hidden_size=80    #size of fourth hidden layer\n",
    "output_size=10     #output layer\n",
    "batch_size=50      #batch size "
   ]
  },
  {
   "cell_type": "code",
   "execution_count": 4,
   "metadata": {
    "scrolled": true
   },
   "outputs": [],
   "source": [
    "# Скачиваем датасет\n",
    "train_dataset=torchvision.datasets.MNIST('TRAIN',train=True,transform=transforms.ToTensor(),download=True)\n",
    "test_dataset=torchvision.datasets.MNIST('TEST',train=False,transform=transforms.ToTensor(),download=True)"
   ]
  },
  {
   "cell_type": "code",
   "execution_count": 5,
   "metadata": {},
   "outputs": [],
   "source": [
    "# Создаем загрузчик данных для батчевой загрузки в оперативку\n",
    "train_dataloader=torch.utils.data.DataLoader(dataset=train_dataset, batch_size=batch_size,shuffle=True)\n",
    "test_dataloader=torch.utils.data.DataLoader(dataset=test_dataset, batch_size=batch_size,shuffle=True)"
   ]
  },
  {
   "cell_type": "code",
   "execution_count": 6,
   "metadata": {},
   "outputs": [
    {
     "name": "stdout",
     "output_type": "stream",
     "text": [
      "number of samplestorch.Size([50, 1, 28, 28])\n",
      "number of labels torch.Size([50])\n"
     ]
    }
   ],
   "source": [
    "# Посмотрим на наш датасет \n",
    "\n",
    "data=iter(train_dataloader)\n",
    "X,y=next(data)\n",
    "print(f\"number of samples{X.shape}\")\n",
    "print(f\"number of labels {y.shape}\")"
   ]
  },
  {
   "cell_type": "code",
   "execution_count": 7,
   "metadata": {
    "scrolled": true
   },
   "outputs": [
    {
     "data": {
      "text/plain": [
       "tensor([[[[0., 0., 0.,  ..., 0., 0., 0.],\n",
       "          [0., 0., 0.,  ..., 0., 0., 0.],\n",
       "          [0., 0., 0.,  ..., 0., 0., 0.],\n",
       "          ...,\n",
       "          [0., 0., 0.,  ..., 0., 0., 0.],\n",
       "          [0., 0., 0.,  ..., 0., 0., 0.],\n",
       "          [0., 0., 0.,  ..., 0., 0., 0.]]],\n",
       "\n",
       "\n",
       "        [[[0., 0., 0.,  ..., 0., 0., 0.],\n",
       "          [0., 0., 0.,  ..., 0., 0., 0.],\n",
       "          [0., 0., 0.,  ..., 0., 0., 0.],\n",
       "          ...,\n",
       "          [0., 0., 0.,  ..., 0., 0., 0.],\n",
       "          [0., 0., 0.,  ..., 0., 0., 0.],\n",
       "          [0., 0., 0.,  ..., 0., 0., 0.]]],\n",
       "\n",
       "\n",
       "        [[[0., 0., 0.,  ..., 0., 0., 0.],\n",
       "          [0., 0., 0.,  ..., 0., 0., 0.],\n",
       "          [0., 0., 0.,  ..., 0., 0., 0.],\n",
       "          ...,\n",
       "          [0., 0., 0.,  ..., 0., 0., 0.],\n",
       "          [0., 0., 0.,  ..., 0., 0., 0.],\n",
       "          [0., 0., 0.,  ..., 0., 0., 0.]]],\n",
       "\n",
       "\n",
       "        ...,\n",
       "\n",
       "\n",
       "        [[[0., 0., 0.,  ..., 0., 0., 0.],\n",
       "          [0., 0., 0.,  ..., 0., 0., 0.],\n",
       "          [0., 0., 0.,  ..., 0., 0., 0.],\n",
       "          ...,\n",
       "          [0., 0., 0.,  ..., 0., 0., 0.],\n",
       "          [0., 0., 0.,  ..., 0., 0., 0.],\n",
       "          [0., 0., 0.,  ..., 0., 0., 0.]]],\n",
       "\n",
       "\n",
       "        [[[0., 0., 0.,  ..., 0., 0., 0.],\n",
       "          [0., 0., 0.,  ..., 0., 0., 0.],\n",
       "          [0., 0., 0.,  ..., 0., 0., 0.],\n",
       "          ...,\n",
       "          [0., 0., 0.,  ..., 0., 0., 0.],\n",
       "          [0., 0., 0.,  ..., 0., 0., 0.],\n",
       "          [0., 0., 0.,  ..., 0., 0., 0.]]],\n",
       "\n",
       "\n",
       "        [[[0., 0., 0.,  ..., 0., 0., 0.],\n",
       "          [0., 0., 0.,  ..., 0., 0., 0.],\n",
       "          [0., 0., 0.,  ..., 0., 0., 0.],\n",
       "          ...,\n",
       "          [0., 0., 0.,  ..., 0., 0., 0.],\n",
       "          [0., 0., 0.,  ..., 0., 0., 0.],\n",
       "          [0., 0., 0.,  ..., 0., 0., 0.]]]])"
      ]
     },
     "execution_count": 7,
     "metadata": {},
     "output_type": "execute_result"
    }
   ],
   "source": [
    "X"
   ]
  },
  {
   "cell_type": "code",
   "execution_count": 8,
   "metadata": {},
   "outputs": [
    {
     "data": {
      "text/plain": [
       "<matplotlib.image.AxesImage at 0x216ea7fe760>"
      ]
     },
     "execution_count": 8,
     "metadata": {},
     "output_type": "execute_result"
    },
    {
     "data": {
      "image/png": "[encoded data removed]",
      "text/plain": [
       "<Figure size 432x288 with 1 Axes>"
      ]
     },
     "metadata": {
      "needs_background": "light"
     },
     "output_type": "display_data"
    }
   ],
   "source": [
    "plt.imshow(X[49][0], cmap='gray_r')"
   ]
  },
  {
   "cell_type": "code",
   "execution_count": 9,
   "metadata": {},
   "outputs": [
    {
     "data": {
      "image/png": "[encoded data removed]",
      "text/plain": [
       "<Figure size 432x288 with 50 Axes>"
      ]
     },
     "metadata": {
      "needs_background": "light"
     },
     "output_type": "display_data"
    }
   ],
   "source": [
    "figure = plt.figure()\n",
    "num_of_images = len(X)\n",
    "for index in range(1, num_of_images+1):\n",
    "    plt.subplot(5, 10, index)\n",
    "    plt.axis('off')\n",
    "    plt.imshow(X[index-1].numpy().squeeze(), cmap='gray_r')"
   ]
  },
  {
   "cell_type": "code",
   "execution_count": 105,
   "metadata": {},
   "outputs": [
    {
     "name": "stdout",
     "output_type": "stream",
     "text": [
      "Sequential(\n",
      "  (0): Linear(in_features=784, out_features=128, bias=True)\n",
      "  (1): ReLU()\n",
      "  (2): Linear(in_features=128, out_features=64, bias=True)\n",
      "  (3): ReLU()\n",
      "  (4): Linear(in_features=64, out_features=10, bias=True)\n",
      "  (5): LogSoftmax(dim=1)\n",
      ")\n"
     ]
    }
   ],
   "source": [
    "# HyperParameters 2\n",
    "\n",
    "# Создаем модель\n",
    "model = nn.Sequential(nn.Linear(input_size, hidden_size1),\n",
    "                      nn.ReLU(),\n",
    "                      nn.Linear(hidden_size1, hidden_size2),\n",
    "                      nn.ReLU(),\n",
    "                      nn.Linear(hidden_size2, output_size),\n",
    "                      nn.LogSoftmax(dim=1))\n",
    "print(model)"
   ]
  },
  {
   "cell_type": "code",
   "execution_count": 106,
   "metadata": {
    "scrolled": true
   },
   "outputs": [],
   "source": [
    "# HyperParameters 3\n",
    "\n",
    "# Создаем Loss и Optimizer\n",
    "lr_rate=0.01\n",
    "loss=nn.CrossEntropyLoss()  # Loss func\n",
    "optimizer=torch.optim.Adam(model.parameters(),lr=lr_rate)  # optimizer func"
   ]
  },
  {
   "cell_type": "code",
   "execution_count": 107,
   "metadata": {},
   "outputs": [],
   "source": [
    "valid_loss_history = []\n",
    "train_loss_history = []"
   ]
  },
  {
   "cell_type": "code",
   "execution_count": 108,
   "metadata": {},
   "outputs": [],
   "source": [
    "# Создаем функцию для просчитывания Loss на Validation данных\n",
    "# тк их нету, будем брать из тестовых ( на самом деле это плохо )\n",
    "\n",
    "def calc_loss_val():\n",
    "    total_loss = 0.0\n",
    "    \n",
    "    with torch.no_grad():\n",
    "        for img,lbl in test_dataloader:\n",
    "            img=img.reshape(-1,784)\n",
    "            out=model(images)\n",
    "            _,pred=torch.max(out,1)\n",
    "            l_i = loss(out, lbl)\n",
    "            total_loss += l_i\n",
    "\n",
    "        valid_loss_history.append(total_loss / len(test_dataloader))"
   ]
  },
  {
   "cell_type": "code",
   "execution_count": 109,
   "metadata": {
    "scrolled": true
   },
   "outputs": [
    {
     "name": "stdout",
     "output_type": "stream",
     "text": [
      "epoch=1of10, loss=0.24730262160301208\n",
      "epoch=2of10, loss=0.1499677449464798\n",
      "epoch=3of10, loss=0.1305878609418869\n",
      "epoch=4of10, loss=0.12265246361494064\n",
      "epoch=5of10, loss=0.10870035737752914\n",
      "epoch=6of10, loss=0.10925863683223724\n",
      "epoch=7of10, loss=0.09786985069513321\n",
      "epoch=8of10, loss=0.09263768792152405\n",
      "epoch=9of10, loss=0.08856897056102753\n",
      "epoch=10of10, loss=0.08981197327375412\n"
     ]
    }
   ],
   "source": [
    "# Создаем функцию для тренировки модели\n",
    "\n",
    "\n",
    "count_epochs = 10  # кол-во эпох\n",
    "for epoch in range(count_epochs):\n",
    "    total_loss_per_batch = 0.0\n",
    "    for i, (images,labels) in enumerate(train_dataloader):\n",
    "        images = images.reshape(-1, 28*28)\n",
    "        \n",
    "        # Считаем loss\n",
    "        output = model(images)\n",
    "        Loss_i = loss(output, labels)\n",
    "        \n",
    "        # Считаем градиент\n",
    "        optimizer.zero_grad() # обновить градиент\n",
    "        Loss_i.backward()  # backpropogation algo\n",
    "        optimizer.step()  # update params\n",
    "        \n",
    "        total_loss_per_batch += Loss_i\n",
    "        \n",
    "    # Делаем prints\n",
    "    print(\"epoch={}of{}, loss={}\".format(\n",
    "           epoch+1, count_epochs, total_loss_per_batch/len(train_dataloader)))\n",
    "    \n",
    "    # Добавляем историю loss\n",
    "    calc_loss_val() # val_loss\n",
    "    train_loss_history.append(total_loss_per_batch/len(train_dataloader))"
   ]
  },
  {
   "cell_type": "code",
   "execution_count": 110,
   "metadata": {},
   "outputs": [
    {
     "data": {
      "text/plain": [
       "[tensor(0.2473, grad_fn=<DivBackward0>),\n",
       " tensor(0.1500, grad_fn=<DivBackward0>),\n",
       " tensor(0.1306, grad_fn=<DivBackward0>),\n",
       " tensor(0.1227, grad_fn=<DivBackward0>),\n",
       " tensor(0.1087, grad_fn=<DivBackward0>),\n",
       " tensor(0.1093, grad_fn=<DivBackward0>),\n",
       " tensor(0.0979, grad_fn=<DivBackward0>),\n",
       " tensor(0.0926, grad_fn=<DivBackward0>),\n",
       " tensor(0.0886, grad_fn=<DivBackward0>),\n",
       " tensor(0.0898, grad_fn=<DivBackward0>)]"
      ]
     },
     "execution_count": 110,
     "metadata": {},
     "output_type": "execute_result"
    }
   ],
   "source": [
    "train_loss_history"
   ]
  },
  {
   "cell_type": "code",
   "execution_count": 111,
   "metadata": {},
   "outputs": [
    {
     "data": {
      "text/plain": [
       "[tensor(14.6299),\n",
       " tensor(17.6695),\n",
       " tensor(16.1251),\n",
       " tensor(18.4941),\n",
       " tensor(23.1133),\n",
       " tensor(26.8286),\n",
       " tensor(24.9476),\n",
       " tensor(28.3060),\n",
       " tensor(25.7627),\n",
       " tensor(33.3579)]"
      ]
     },
     "execution_count": 111,
     "metadata": {},
     "output_type": "execute_result"
    }
   ],
   "source": [
    "valid_loss_history # ?????????????????????????????????"
   ]
  },
  {
   "cell_type": "code",
   "execution_count": 112,
   "metadata": {
    "scrolled": true
   },
   "outputs": [
    {
     "data": {
      "text/plain": [
       "96.71"
      ]
     },
     "execution_count": 112,
     "metadata": {},
     "output_type": "execute_result"
    }
   ],
   "source": [
    "# Accuracy score\n",
    "\n",
    "with torch.no_grad():\n",
    "    n_correct=0\n",
    "    n_samples=0\n",
    "    for images,labels in test_dataloader:\n",
    "        images=images.reshape(-1,784)\n",
    "        output=model(images)\n",
    "        labels=labels\n",
    "        _,prediction=torch.max(output,1)\n",
    "        n_samples+=labels.shape[0]\n",
    "        n_correct+=(prediction==labels).sum().item()\n",
    "accuracy=(n_correct/n_samples)*100\n",
    "\n",
    "accuracy"
   ]
  },
  {
   "cell_type": "code",
   "execution_count": 113,
   "metadata": {},
   "outputs": [],
   "source": [
    "# Other metrics"
   ]
  },
  {
   "cell_type": "code",
   "execution_count": 114,
   "metadata": {},
   "outputs": [],
   "source": [
    "target = torch.Tensor()"
   ]
  },
  {
   "cell_type": "code",
   "execution_count": 115,
   "metadata": {},
   "outputs": [],
   "source": [
    "preds = torch.Tensor()"
   ]
  },
  {
   "cell_type": "code",
   "execution_count": 116,
   "metadata": {},
   "outputs": [],
   "source": [
    "with torch.no_grad():\n",
    "    for images,labels in test_dataloader:\n",
    "        images=images.reshape(-1,784)\n",
    "        output=model(images)\n",
    "        target=torch.cat((target,labels))\n",
    "        _,prediction=torch.max(output,1)\n",
    "        preds=torch.cat((preds,prediction))"
   ]
  },
  {
   "cell_type": "code",
   "execution_count": 117,
   "metadata": {},
   "outputs": [
    {
     "data": {
      "text/plain": [
       "tensor([9, 1, 5, 0, 3, 4, 8, 8, 1, 8, 2, 2, 8, 2, 1, 4, 6, 7, 4, 4, 5, 6, 9, 3,\n",
       "        4, 0, 6, 8, 2, 0, 6, 7, 1, 3, 4, 6, 6, 1, 0, 6, 2, 9, 7, 8, 9, 4, 2, 7,\n",
       "        6, 6])"
      ]
     },
     "execution_count": 117,
     "metadata": {},
     "output_type": "execute_result"
    }
   ],
   "source": [
    "labels"
   ]
  },
  {
   "cell_type": "code",
   "execution_count": 118,
   "metadata": {},
   "outputs": [
    {
     "data": {
      "text/plain": [
       "tensor([9, 1, 5, 0, 3, 4, 8, 8, 1, 8, 2, 2, 8, 2, 1, 4, 6, 7, 4, 4, 5, 5, 9, 3,\n",
       "        4, 0, 6, 8, 2, 0, 6, 7, 1, 3, 4, 6, 6, 1, 0, 6, 2, 9, 7, 8, 9, 4, 2, 7,\n",
       "        6, 6])"
      ]
     },
     "execution_count": 118,
     "metadata": {},
     "output_type": "execute_result"
    }
   ],
   "source": [
    "prediction"
   ]
  },
  {
   "cell_type": "code",
   "execution_count": 119,
   "metadata": {},
   "outputs": [
    {
     "data": {
      "text/plain": [
       "10000"
      ]
     },
     "execution_count": 119,
     "metadata": {},
     "output_type": "execute_result"
    }
   ],
   "source": [
    "len(target)"
   ]
  },
  {
   "cell_type": "code",
   "execution_count": 120,
   "metadata": {},
   "outputs": [
    {
     "data": {
      "text/plain": [
       "10000"
      ]
     },
     "execution_count": 120,
     "metadata": {},
     "output_type": "execute_result"
    }
   ],
   "source": [
    "len(preds)"
   ]
  },
  {
   "cell_type": "code",
   "execution_count": 121,
   "metadata": {},
   "outputs": [],
   "source": [
    "target = target.to(torch.int)"
   ]
  },
  {
   "cell_type": "code",
   "execution_count": 122,
   "metadata": {},
   "outputs": [],
   "source": [
    "preds = preds.to(torch.int)"
   ]
  },
  {
   "cell_type": "code",
   "execution_count": 123,
   "metadata": {
    "scrolled": true
   },
   "outputs": [
    {
     "data": {
      "text/plain": [
       "tensor(0.9671)"
      ]
     },
     "execution_count": 123,
     "metadata": {},
     "output_type": "execute_result"
    }
   ],
   "source": [
    "# Accuracy\n",
    "from torchmetrics import Accuracy\n",
    "accuracy = Accuracy()\n",
    "accuracy(preds, target)"
   ]
  },
  {
   "cell_type": "code",
   "execution_count": 124,
   "metadata": {},
   "outputs": [
    {
     "name": "stdout",
     "output_type": "stream",
     "text": [
      "tensor(0.9674)\n",
      "tensor(0.9671)\n"
     ]
    }
   ],
   "source": [
    "# Precision\n",
    "from torchmetrics import Precision\n",
    "precision1 = Precision(average='macro', num_classes=10)\n",
    "precision2 = Precision(average='micro', num_classes=10)\n",
    "print(precision1(preds, target))\n",
    "print(precision2(preds, target))"
   ]
  },
  {
   "cell_type": "code",
   "execution_count": 125,
   "metadata": {},
   "outputs": [
    {
     "name": "stdout",
     "output_type": "stream",
     "text": [
      "tensor(0.9665)\n",
      "tensor(0.9671)\n"
     ]
    }
   ],
   "source": [
    "# Recall\n",
    "from torchmetrics import Recall\n",
    "recall1 = Recall(average='macro', num_classes=10)\n",
    "recall2 = Recall(average='micro', num_classes=10)\n",
    "print(recall1(preds, target))\n",
    "print(recall2(preds, target))"
   ]
  },
  {
   "cell_type": "code",
   "execution_count": 126,
   "metadata": {},
   "outputs": [
    {
     "name": "stdout",
     "output_type": "stream",
     "text": [
      "tensor(0.9671)\n"
     ]
    }
   ],
   "source": [
    "# F1 score\n",
    "from torchmetrics import F1Score\n",
    "f1 = F1Score(num_classes=10)\n",
    "print(f1(preds, target))"
   ]
  },
  {
   "cell_type": "code",
   "execution_count": null,
   "metadata": {},
   "outputs": [],
   "source": []
  },
  {
   "cell_type": "code",
   "execution_count": null,
   "metadata": {},
   "outputs": [],
   "source": []
  },
  {
   "cell_type": "code",
   "execution_count": 34,
   "metadata": {},
   "outputs": [],
   "source": [
    "# Try to nn.NLLLoss"
   ]
  },
  {
   "cell_type": "code",
   "execution_count": null,
   "metadata": {},
   "outputs": [],
   "source": []
  },
  {
   "cell_type": "code",
   "execution_count": 35,
   "metadata": {},
   "outputs": [
    {
     "name": "stdout",
     "output_type": "stream",
     "text": [
      "Sequential(\n",
      "  (0): Linear(in_features=784, out_features=128, bias=True)\n",
      "  (1): ReLU()\n",
      "  (2): Linear(in_features=128, out_features=64, bias=True)\n",
      "  (3): ReLU()\n",
      "  (4): Linear(in_features=64, out_features=10, bias=True)\n",
      "  (5): LogSoftmax(dim=1)\n",
      ")\n"
     ]
    }
   ],
   "source": [
    "# HyperParameters 2\n",
    "\n",
    "# Создаем модель\n",
    "model2 = nn.Sequential(nn.Linear(input_size, hidden_size1),\n",
    "                      nn.ReLU(),\n",
    "                      nn.Linear(hidden_size1, hidden_size2),\n",
    "                      nn.ReLU(),\n",
    "                      nn.Linear(hidden_size2, output_size),\n",
    "                      nn.LogSoftmax(dim=1))\n",
    "print(model2)"
   ]
  },
  {
   "cell_type": "code",
   "execution_count": 36,
   "metadata": {
    "scrolled": true
   },
   "outputs": [],
   "source": [
    "# HyperParameters 3\n",
    "\n",
    "# Создаем Loss и Optimizer\n",
    "lr_rate=0.01\n",
    "loss=nn.NLLLoss()  # Loss func\n",
    "optimizer=torch.optim.Adam(model2.parameters(),lr=lr_rate)  # optimizer func"
   ]
  },
  {
   "cell_type": "code",
   "execution_count": 37,
   "metadata": {
    "scrolled": true
   },
   "outputs": [
    {
     "name": "stdout",
     "output_type": "stream",
     "text": [
      "epoch=1of10, loss=0.06286990642547607\n",
      "epoch=2of10, loss=0.06286980211734772\n",
      "epoch=3of10, loss=0.06286988407373428\n",
      "epoch=4of10, loss=0.06286990642547607\n",
      "epoch=5of10, loss=0.06286986917257309\n",
      "epoch=6of10, loss=0.06286980211734772\n",
      "epoch=7of10, loss=0.06286987662315369\n",
      "epoch=8of10, loss=0.06286978721618652\n",
      "epoch=9of10, loss=0.06286986917257309\n",
      "epoch=10of10, loss=0.06286986172199249\n"
     ]
    }
   ],
   "source": [
    "# Создаем функцию для тренировки модели\n",
    "\n",
    "\n",
    "count_epochs = 10  # кол-во эпох\n",
    "for epoch in range(count_epochs):\n",
    "    total_loss_per_batch = 0.0\n",
    "    for i, (images,labels) in enumerate(train_dataloader):\n",
    "        images = images.reshape(-1, 28*28)\n",
    "        \n",
    "        # Считаем loss\n",
    "        output = model(images)\n",
    "        Loss_i = loss(output, labels)\n",
    "        \n",
    "        # Считаем градиент\n",
    "        optimizer.zero_grad() # обновить градиент\n",
    "        Loss_i.backward()  # backpropogation algo\n",
    "        optimizer.step()  # update params\n",
    "        \n",
    "        total_loss_per_batch += Loss_i\n",
    "        # Делаем prints\n",
    "    \n",
    "    print(\"epoch={}of{}, loss={}\".format(\n",
    "           epoch+1, count_epochs, total_loss_per_batch/len(train_dataloader)))"
   ]
  },
  {
   "cell_type": "code",
   "execution_count": 38,
   "metadata": {},
   "outputs": [
    {
     "data": {
      "text/plain": [
       "9.48"
      ]
     },
     "execution_count": 38,
     "metadata": {},
     "output_type": "execute_result"
    }
   ],
   "source": [
    "# Accuracy score\n",
    "\n",
    "with torch.no_grad():\n",
    "    n_correct=0\n",
    "    n_samples=0\n",
    "    for images,labels in test_dataloader:\n",
    "        images=images.reshape(-1,784)\n",
    "        output=model2(images)\n",
    "        labels=labels\n",
    "        _,prediction=torch.max(output,1)\n",
    "        n_samples+=labels.shape[0]\n",
    "        n_correct+=(prediction==labels).sum().item()\n",
    "accuracy=(n_correct/n_samples)*100\n",
    "\n",
    "accuracy"
   ]
  },
  {
   "cell_type": "code",
   "execution_count": null,
   "metadata": {},
   "outputs": [],
   "source": []
  }
 ],
 "metadata": {
  "kernelspec": {
   "display_name": "Python 3",
   "language": "python",
   "name": "python3"
  },
  "language_info": {
   "codemirror_mode": {
    "name": "ipython",
    "version": 3
   },
   "file_extension": ".py",
   "mimetype": "text/x-python",
   "name": "python",
   "nbconvert_exporter": "python",
   "pygments_lexer": "ipython3",
   "version": "3.8.3"
  }
 },
 "nbformat": 4,
 "nbformat_minor": 4
}
